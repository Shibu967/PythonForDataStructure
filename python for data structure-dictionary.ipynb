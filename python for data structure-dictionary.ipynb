{
 "cells": [
  {
   "cell_type": "markdown",
   "id": "ba565c72",
   "metadata": {},
   "source": [
    "# Dictionary"
   ]
  },
  {
   "cell_type": "code",
   "execution_count": 9,
   "id": "ff0bb2dd",
   "metadata": {},
   "outputs": [
    {
     "name": "stdout",
     "output_type": "stream",
     "text": [
      "{'name': 'shibu', 'age': '29', 'DOB': '08-06-2001'}\n",
      "shibu\n",
      "dict_keys(['name', 'age', 'DOB'])\n",
      "dict_values(['shibu', '29', '08-06-2001'])\n",
      "dict_items([('name', 'shibu'), ('age', '29'), ('DOB', '08-06-2001')])\n",
      "{'name': 'shibu', 'age': '29', 'DOB': '08-06-2001', 'email_id': 'shibu123@gmail.com'}\n"
     ]
    }
   ],
   "source": [
    "students={\n",
    "    'name':'shibu',\n",
    "    'age':'29',\n",
    "    'DOB':'08-06-2001'\n",
    "    \n",
    "    \n",
    "}\n",
    "print(students)\n",
    "print(students['name'])\n",
    "print(students.keys())\n",
    "print(students.values())\n",
    "print(students.items())\n",
    "students['email_id']='shibu123@gmail.com'#add \n",
    "print(students)\n",
    "\n"
   ]
  },
  {
   "cell_type": "code",
   "execution_count": 10,
   "id": "3451530c",
   "metadata": {},
   "outputs": [
    {
     "name": "stdout",
     "output_type": "stream",
     "text": [
      "shibu\n"
     ]
    }
   ],
   "source": [
    "print(students.pop('name'))"
   ]
  },
  {
   "cell_type": "code",
   "execution_count": 12,
   "id": "725bccd3",
   "metadata": {},
   "outputs": [
    {
     "name": "stdout",
     "output_type": "stream",
     "text": [
      "3\n"
     ]
    }
   ],
   "source": [
    "print(len(students))"
   ]
  },
  {
   "cell_type": "code",
   "execution_count": 14,
   "id": "58759a74",
   "metadata": {},
   "outputs": [
    {
     "name": "stdout",
     "output_type": "stream",
     "text": [
      "('age', '29')\n",
      "('DOB', '08-06-2001')\n",
      "('email_id', 'shibu123@gmail.com')\n"
     ]
    }
   ],
   "source": [
    "for i in students.items():\n",
    "    print(i)"
   ]
  },
  {
   "cell_type": "code",
   "execution_count": 19,
   "id": "8076f9c4",
   "metadata": {},
   "outputs": [],
   "source": [
    "students={1:{\n",
    "    'name':'shibu',\n",
    "    'age':'22',\n",
    "    'DOB':'08-06-2001'},\n",
    "    2:{\n",
    "    'name':'tape',\n",
    "    'age':'18',\n",
    "    'DOB':'08-06-2001'},\n",
    "    3:{\n",
    "    'name':'shibu',\n",
    "    'age':'19',\n",
    "    'DOB':'08-06-2001'\n",
    "    \n",
    "    \n",
    "}\n",
    "    \n",
    "    \n",
    "}"
   ]
  },
  {
   "cell_type": "code",
   "execution_count": 20,
   "id": "b5e751b6",
   "metadata": {},
   "outputs": [
    {
     "name": "stdout",
     "output_type": "stream",
     "text": [
      "{1: {'name': 'shibu', 'age': '22', 'DOB': '08-06-2001'}, 2: {'name': 'tape', 'age': '18', 'DOB': '08-06-2001'}, 3: {'name': 'shibu', 'age': '19', 'DOB': '08-06-2001'}}\n"
     ]
    }
   ],
   "source": [
    "print(students)"
   ]
  },
  {
   "cell_type": "code",
   "execution_count": 22,
   "id": "862653b9",
   "metadata": {},
   "outputs": [
    {
     "name": "stdout",
     "output_type": "stream",
     "text": [
      "(1, {'name': 'shibu', 'age': '22', 'DOB': '08-06-2001'})\n",
      "(2, {'name': 'tape', 'age': '18', 'DOB': '08-06-2001'})\n",
      "(3, {'name': 'shibu', 'age': '19', 'DOB': '08-06-2001'})\n"
     ]
    }
   ],
   "source": [
    "for i in students.items():\n",
    "    print(i)"
   ]
  },
  {
   "cell_type": "code",
   "execution_count": null,
   "id": "1e0faeb8",
   "metadata": {},
   "outputs": [],
   "source": []
  }
 ],
 "metadata": {
  "kernelspec": {
   "display_name": "Python 3",
   "language": "python",
   "name": "python3"
  },
  "language_info": {
   "codemirror_mode": {
    "name": "ipython",
    "version": 3
   },
   "file_extension": ".py",
   "mimetype": "text/x-python",
   "name": "python",
   "nbconvert_exporter": "python",
   "pygments_lexer": "ipython3",
   "version": "3.8.8"
  }
 },
 "nbformat": 4,
 "nbformat_minor": 5
}
