{
 "cells": [
  {
   "cell_type": "code",
   "execution_count": 3,
   "id": "e9e74ec1",
   "metadata": {},
   "outputs": [
    {
     "name": "stdout",
     "output_type": "stream",
     "text": [
      "9 is found in the list\n"
     ]
    }
   ],
   "source": [
    "def linerSearch(num,key):\n",
    "    for i in range(len(num)):\n",
    "        if key==num[i]:\n",
    "            return True\n",
    "        \n",
    "        \n",
    "    return False\n",
    "\n",
    "num=[3,5,6,7,8,9,9]\n",
    "key=9\n",
    "\n",
    "if linerSearch(num,key):\n",
    "    print(key,\"is found in the list\")\n",
    "else:\n",
    "    print(key,\"is not found in the list\")"
   ]
  },
  {
   "cell_type": "code",
   "execution_count": 4,
   "id": "f3d990cc",
   "metadata": {},
   "outputs": [
    {
     "name": "stdout",
     "output_type": "stream",
     "text": [
      "('found at', 5)\n"
     ]
    }
   ],
   "source": [
    "def linerSearch(num,key):\n",
    "    for i in range(len(num)):\n",
    "        if key==num[i]:\n",
    "            return \"found at\",i\n",
    "        \n",
    "        \n",
    "    return \"not found\"\n",
    "\n",
    "num=[3,5,6,7,8,9,9]\n",
    "key=9\n",
    "\n",
    "print(linerSearch(num,key))"
   ]
  },
  {
   "cell_type": "code",
   "execution_count": null,
   "id": "cc8bd162",
   "metadata": {},
   "outputs": [],
   "source": []
  }
 ],
 "metadata": {
  "kernelspec": {
   "display_name": "Python 3",
   "language": "python",
   "name": "python3"
  },
  "language_info": {
   "codemirror_mode": {
    "name": "ipython",
    "version": 3
   },
   "file_extension": ".py",
   "mimetype": "text/x-python",
   "name": "python",
   "nbconvert_exporter": "python",
   "pygments_lexer": "ipython3",
   "version": "3.8.8"
  }
 },
 "nbformat": 4,
 "nbformat_minor": 5
}
